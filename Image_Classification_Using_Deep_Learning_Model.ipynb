{
  "nbformat": 4,
  "nbformat_minor": 0,
  "metadata": {
    "colab": {
      "provenance": [],
      "authorship_tag": "ABX9TyNIVdGixbZNGBoaTSDVD+Ha",
      "include_colab_link": true
    },
    "kernelspec": {
      "name": "python3",
      "display_name": "Python 3"
    },
    "language_info": {
      "name": "python"
    }
  },
  "cells": [
    {
      "cell_type": "markdown",
      "metadata": {
        "id": "view-in-github",
        "colab_type": "text"
      },
      "source": [
        "<a href=\"https://colab.research.google.com/github/iamnileshmehta/Deep-Learning-Projects/blob/main/Image_Classification_Using_Deep_Learning_Model.ipynb\" target=\"_parent\"><img src=\"https://colab.research.google.com/assets/colab-badge.svg\" alt=\"Open In Colab\"/></a>"
      ]
    },
    {
      "cell_type": "code",
      "execution_count": null,
      "metadata": {
        "id": "2WjcCT4b8wk6"
      },
      "outputs": [],
      "source": [
        "from tensorflow.keras.datasets import mnist\n",
        "(train_images,train_labels),(test_images,test_labels) = mnist.load_data()"
      ]
    },
    {
      "cell_type": "code",
      "source": [
        "train_images.shape"
      ],
      "metadata": {
        "colab": {
          "base_uri": "https://localhost:8080/"
        },
        "id": "bWOnhtCp9Ak0",
        "outputId": "1f3ff2f1-9bc2-46c7-deeb-94b89ef9b2e9"
      },
      "execution_count": null,
      "outputs": [
        {
          "output_type": "execute_result",
          "data": {
            "text/plain": [
              "(60000, 28, 28)"
            ]
          },
          "metadata": {},
          "execution_count": 55
        }
      ]
    },
    {
      "cell_type": "code",
      "source": [
        "test_images.shape"
      ],
      "metadata": {
        "colab": {
          "base_uri": "https://localhost:8080/"
        },
        "id": "ydyuTz1Y9Aha",
        "outputId": "c9765977-bcaf-4b8a-af2c-c0f712cff687"
      },
      "execution_count": null,
      "outputs": [
        {
          "output_type": "execute_result",
          "data": {
            "text/plain": [
              "(10000, 28, 28)"
            ]
          },
          "metadata": {},
          "execution_count": 56
        }
      ]
    },
    {
      "cell_type": "code",
      "source": [
        "train_labels[:10]\n",
        "test_labels[:10]"
      ],
      "metadata": {
        "colab": {
          "base_uri": "https://localhost:8080/"
        },
        "id": "2Ouxq5GN9Ael",
        "outputId": "4542260b-ef57-4e36-e037-650ebec47003"
      },
      "execution_count": null,
      "outputs": [
        {
          "output_type": "execute_result",
          "data": {
            "text/plain": [
              "array([7, 2, 1, 0, 4, 1, 4, 9, 5, 9], dtype=uint8)"
            ]
          },
          "metadata": {},
          "execution_count": 57
        }
      ]
    },
    {
      "cell_type": "code",
      "source": [
        "import matplotlib.pyplot as plt\n",
        "\n",
        "plt.imshow(train_images[0])\n",
        "plt.title(f\"Class label is {train_labels[0]}\")\n",
        "plt.show()"
      ],
      "metadata": {
        "colab": {
          "base_uri": "https://localhost:8080/",
          "height": 452
        },
        "id": "EacevtOL9Abl",
        "outputId": "c2640b68-c384-4cbe-ae6e-650f10f65b8b"
      },
      "execution_count": null,
      "outputs": [
        {
          "output_type": "display_data",
          "data": {
            "text/plain": [
              "<Figure size 640x480 with 1 Axes>"
            ],
            "image/png": "[encoded data removed]"
          },
          "metadata": {}
        }
      ]
    },
    {
      "cell_type": "code",
      "source": [
        "#Flatten\n",
        "train_images = train_images.reshape(60000,784)\n",
        "test_images = test_images.reshape(10000,784)"
      ],
      "metadata": {
        "id": "p6XtHchC9AYp"
      },
      "execution_count": null,
      "outputs": []
    },
    {
      "cell_type": "code",
      "source": [
        "train_images.shape"
      ],
      "metadata": {
        "colab": {
          "base_uri": "https://localhost:8080/"
        },
        "id": "DDx8LY2G9AVT",
        "outputId": "a0114179-f1be-4920-f057-ce6c05605534"
      },
      "execution_count": null,
      "outputs": [
        {
          "output_type": "execute_result",
          "data": {
            "text/plain": [
              "(60000, 784)"
            ]
          },
          "metadata": {},
          "execution_count": 60
        }
      ]
    },
    {
      "cell_type": "code",
      "source": [
        "#Min max scaling with range of 0 and 1\n",
        "import numpy as np\n",
        "np.max(train_images), np.min(train_images)"
      ],
      "metadata": {
        "colab": {
          "base_uri": "https://localhost:8080/"
        },
        "id": "UK2ooU0j9AR1",
        "outputId": "e68a4233-6c40-483e-b4c0-f2bbe72e7832"
      },
      "execution_count": null,
      "outputs": [
        {
          "output_type": "execute_result",
          "data": {
            "text/plain": [
              "(255, 0)"
            ]
          },
          "metadata": {},
          "execution_count": 61
        }
      ]
    },
    {
      "cell_type": "code",
      "source": [
        "np.max(test_images), np.min(test_images)"
      ],
      "metadata": {
        "colab": {
          "base_uri": "https://localhost:8080/"
        },
        "id": "dMX52wTL9AO8",
        "outputId": "69fc7404-6c6a-4c84-90dd-bee09b14087f"
      },
      "execution_count": null,
      "outputs": [
        {
          "output_type": "execute_result",
          "data": {
            "text/plain": [
              "(255, 0)"
            ]
          },
          "metadata": {},
          "execution_count": 62
        }
      ]
    },
    {
      "cell_type": "code",
      "source": [
        "train_images = train_images/255\n",
        "test_images = test_images/255"
      ],
      "metadata": {
        "id": "7kMKy8AQ9THE"
      },
      "execution_count": null,
      "outputs": []
    },
    {
      "cell_type": "code",
      "source": [
        "np.max(train_images), np.min(train_images)"
      ],
      "metadata": {
        "colab": {
          "base_uri": "https://localhost:8080/"
        },
        "id": "ZHmfhDp89TDk",
        "outputId": "b15b1074-1ba3-4b6f-acaa-00c724cb7f63"
      },
      "execution_count": null,
      "outputs": [
        {
          "output_type": "execute_result",
          "data": {
            "text/plain": [
              "(1.0, 0.0)"
            ]
          },
          "metadata": {},
          "execution_count": 64
        }
      ]
    },
    {
      "cell_type": "code",
      "source": [
        "# Target Preperation\n",
        "set(train_labels)"
      ],
      "metadata": {
        "colab": {
          "base_uri": "https://localhost:8080/"
        },
        "id": "BCoDIFsY9TAE",
        "outputId": "d1db16dd-407f-40e5-edae-4902b68c2d12"
      },
      "execution_count": null,
      "outputs": [
        {
          "output_type": "execute_result",
          "data": {
            "text/plain": [
              "{0, 1, 2, 3, 4, 5, 6, 7, 8, 9}"
            ]
          },
          "metadata": {},
          "execution_count": 65
        }
      ]
    },
    {
      "cell_type": "code",
      "source": [
        "from tensorflow.keras.utils import to_categorical\n",
        "\n",
        "train_labels = to_categorical(train_labels)\n",
        "test_labels = to_categorical(test_labels)"
      ],
      "metadata": {
        "id": "6kmfO_xf9S8x"
      },
      "execution_count": null,
      "outputs": []
    },
    {
      "cell_type": "code",
      "source": [
        "x= train_labels\n",
        "y= test_labels"
      ],
      "metadata": {
        "id": "xz_AEJv5_0IG"
      },
      "execution_count": null,
      "outputs": []
    },
    {
      "cell_type": "code",
      "source": [
        "train_images.shape"
      ],
      "metadata": {
        "colab": {
          "base_uri": "https://localhost:8080/"
        },
        "id": "qZSUNDFz9S6R",
        "outputId": "b84e9e2d-5c20-4d97-d147-a36aa7230346"
      },
      "execution_count": null,
      "outputs": [
        {
          "output_type": "execute_result",
          "data": {
            "text/plain": [
              "(60000, 784)"
            ]
          },
          "metadata": {},
          "execution_count": 68
        }
      ]
    },
    {
      "cell_type": "code",
      "source": [
        "train_labels[:5]"
      ],
      "metadata": {
        "colab": {
          "base_uri": "https://localhost:8080/"
        },
        "id": "FyMLAtf29S2v",
        "outputId": "f8d5138b-08ba-44d6-ddcd-af97dda5fbe0"
      },
      "execution_count": null,
      "outputs": [
        {
          "output_type": "execute_result",
          "data": {
            "text/plain": [
              "array([[0., 0., 0., 0., 0., 1., 0., 0., 0., 0.],\n",
              "       [1., 0., 0., 0., 0., 0., 0., 0., 0., 0.],\n",
              "       [0., 0., 0., 0., 1., 0., 0., 0., 0., 0.],\n",
              "       [0., 1., 0., 0., 0., 0., 0., 0., 0., 0.],\n",
              "       [0., 0., 0., 0., 0., 0., 0., 0., 0., 1.]], dtype=float32)"
            ]
          },
          "metadata": {},
          "execution_count": 69
        }
      ]
    },
    {
      "cell_type": "code",
      "source": [
        "# Building the Model\n",
        "\n",
        "# First Layer - 10 Neuron , activation = 'relu'\n",
        "# Second layer - 10 neuron, activation = 'relu'\n",
        "# Third layer - 10 Neuron , activation = 'softmax'\n",
        "\n",
        "# Compile\n",
        "# optimizer = 'adam'\n",
        "# loss = 'categorical_crossentropy'\n",
        "# metrics = 'accuracy'\n",
        "\n",
        "# Fit with 20 epochs for training data"
      ],
      "metadata": {
        "id": "m3Ple6tt9Szo"
      },
      "execution_count": null,
      "outputs": []
    },
    {
      "cell_type": "code",
      "source": [],
      "metadata": {
        "id": "TlsvhAEC9Swc"
      },
      "execution_count": null,
      "outputs": []
    },
    {
      "cell_type": "code",
      "source": [
        "import tensorflow as tf\n",
        "from tensorflow.keras import Sequential\n",
        "from tensorflow.keras.layers import Dense"
      ],
      "metadata": {
        "id": "eW2JqD3i9StB"
      },
      "execution_count": null,
      "outputs": []
    },
    {
      "cell_type": "code",
      "source": [
        "model = Sequential(name='my_model')\n",
        "model.add(Dense(units=10, activation='relu', input_shape=[784,]))\n",
        "model.add(Dense(units=10, activation='relu'))\n",
        "model.add(Dense(units=10, activation='softmax'))\n",
        "model.summary()"
      ],
      "metadata": {
        "colab": {
          "base_uri": "https://localhost:8080/"
        },
        "id": "7Z-n4Y4_-nLA",
        "outputId": "55f9e207-9d9e-4629-a051-6f6c6bc86a12"
      },
      "execution_count": null,
      "outputs": [
        {
          "output_type": "stream",
          "name": "stdout",
          "text": [
            "Model: \"my_model\"\n",
            "_________________________________________________________________\n",
            " Layer (type)                Output Shape              Param #   \n",
            "=================================================================\n",
            " dense_10 (Dense)            (None, 10)                7850      \n",
            "                                                                 \n",
            " dense_11 (Dense)            (None, 10)                110       \n",
            "                                                                 \n",
            " dense_12 (Dense)            (None, 10)                110       \n",
            "                                                                 \n",
            "=================================================================\n",
            "Total params: 8,070\n",
            "Trainable params: 8,070\n",
            "Non-trainable params: 0\n",
            "_________________________________________________________________\n"
          ]
        }
      ]
    },
    {
      "cell_type": "code",
      "source": [
        "model.get_weights()"
      ],
      "metadata": {
        "colab": {
          "base_uri": "https://localhost:8080/"
        },
        "id": "Jy606mSc-oRJ",
        "outputId": "248d1926-3e4c-495a-e7d5-2da3f6735978"
      },
      "execution_count": null,
      "outputs": [
        {
          "output_type": "execute_result",
          "data": {
            "text/plain": [
              "[array([[ 0.06938621,  0.0445383 , -0.02808644, ..., -0.00194094,\n",
              "          0.07427045,  0.01073004],\n",
              "        [-0.0096667 ,  0.02690826, -0.0403113 , ..., -0.02247074,\n",
              "         -0.07617595,  0.03017269],\n",
              "        [ 0.05683697, -0.05867358, -0.01359824, ..., -0.0768711 ,\n",
              "         -0.02684199,  0.07730437],\n",
              "        ...,\n",
              "        [ 0.07644666, -0.07791817,  0.0745034 , ..., -0.00061584,\n",
              "         -0.004746  ,  0.07843145],\n",
              "        [-0.04381156, -0.05284092,  0.04580004, ..., -0.08132097,\n",
              "          0.0026235 , -0.02436196],\n",
              "        [ 0.06663578, -0.01463537, -0.04682204, ...,  0.00534347,\n",
              "          0.07950585,  0.03723676]], dtype=float32),\n",
              " array([0., 0., 0., 0., 0., 0., 0., 0., 0., 0.], dtype=float32),\n",
              " array([[-0.31940556,  0.2071948 ,  0.16506213,  0.32779175, -0.33293658,\n",
              "         -0.2903871 , -0.38919622,  0.00420046, -0.34500808, -0.07833642],\n",
              "        [-0.04496038, -0.15493968,  0.31561446, -0.33958036, -0.35434026,\n",
              "          0.03036088, -0.3783402 , -0.207979  , -0.16514885,  0.29969823],\n",
              "        [ 0.01820922, -0.4838654 , -0.35620844, -0.452183  ,  0.23328757,\n",
              "          0.3376124 ,  0.3329007 , -0.19406202, -0.3794831 , -0.527659  ],\n",
              "        [-0.37314036,  0.06405097,  0.08135897,  0.4504496 ,  0.3518036 ,\n",
              "         -0.05884483, -0.35940716, -0.23052436, -0.4902608 , -0.49555743],\n",
              "        [-0.18241182, -0.30839455,  0.21956182, -0.08428231,  0.17923999,\n",
              "         -0.09440479,  0.11073369, -0.508771  , -0.49680465,  0.14837873],\n",
              "        [-0.03474128, -0.5065414 ,  0.25147474, -0.37161326,  0.49363947,\n",
              "         -0.25672394, -0.36213565,  0.31926763, -0.15782839, -0.41401207],\n",
              "        [-0.17264405, -0.4461146 , -0.54344076,  0.03597248,  0.37648368,\n",
              "          0.20093328,  0.25249004, -0.34403223,  0.4450379 , -0.09576184],\n",
              "        [-0.4607733 , -0.2902283 ,  0.4970863 , -0.11768353,  0.5344553 ,\n",
              "          0.2620114 , -0.54312813,  0.42926532, -0.05220461,  0.27080035],\n",
              "        [ 0.08581668, -0.46759215,  0.03463972, -0.52278197,  0.342928  ,\n",
              "          0.4755268 ,  0.46561372, -0.50722045,  0.17295498,  0.422076  ],\n",
              "        [ 0.266101  , -0.33867148, -0.06505582,  0.03563219, -0.0779756 ,\n",
              "         -0.35854048,  0.06772959,  0.2985258 ,  0.43486452, -0.51563036]],\n",
              "       dtype=float32),\n",
              " array([0., 0., 0., 0., 0., 0., 0., 0., 0., 0.], dtype=float32),\n",
              " array([[-0.25958118, -0.5149414 ,  0.36394376,  0.15125698,  0.2653743 ,\n",
              "          0.07139438, -0.26667023, -0.22369581,  0.1067099 , -0.44896466],\n",
              "        [-0.01172423,  0.30091465,  0.5308496 , -0.3506419 , -0.46136588,\n",
              "          0.31969482, -0.15213203, -0.54280335, -0.04727268,  0.14481157],\n",
              "        [-0.44182193, -0.22661889, -0.49675816, -0.23338002,  0.47206557,\n",
              "          0.25010812,  0.21268547,  0.46125603,  0.2377978 , -0.29129717],\n",
              "        [ 0.520491  , -0.2729891 ,  0.41565853, -0.38042426,  0.2528532 ,\n",
              "         -0.2147882 ,  0.5236944 ,  0.39497387, -0.07272077, -0.31046802],\n",
              "        [-0.4925154 ,  0.19527024, -0.22400165,  0.03327024, -0.01277381,\n",
              "          0.44050992,  0.23542398, -0.15734443,  0.03674215,  0.07883823],\n",
              "        [ 0.08953792, -0.48736855, -0.47034037, -0.4524191 , -0.30047014,\n",
              "         -0.54380417,  0.07015014,  0.14004779,  0.17175484,  0.2429722 ],\n",
              "        [-0.52831954, -0.45957565, -0.4021396 , -0.38239378, -0.5010298 ,\n",
              "          0.5473505 , -0.09863594, -0.46680745,  0.32513034, -0.24988404],\n",
              "        [ 0.37236178,  0.22115225, -0.29384506, -0.22570542,  0.03441042,\n",
              "          0.412655  , -0.17643315, -0.4766664 , -0.4955099 ,  0.45620644],\n",
              "        [ 0.4887644 ,  0.41179395,  0.26169538,  0.3209235 ,  0.44307703,\n",
              "          0.46074224,  0.02115983,  0.4315002 ,  0.47774422,  0.34051317],\n",
              "        [ 0.01400703,  0.30659008,  0.52499497,  0.20672053, -0.24803504,\n",
              "          0.21906364,  0.0543803 , -0.24339384,  0.21572763, -0.23916098]],\n",
              "       dtype=float32),\n",
              " array([0., 0., 0., 0., 0., 0., 0., 0., 0., 0.], dtype=float32)]"
            ]
          },
          "metadata": {},
          "execution_count": 73
        }
      ]
    },
    {
      "cell_type": "code",
      "source": [
        "model.compile(optimizer='Adam',\n",
        "              loss = 'categorical_crossentropy',\n",
        "              metrics=['accuracy'])"
      ],
      "metadata": {
        "id": "uCRN4ZH8-n-F"
      },
      "execution_count": null,
      "outputs": []
    },
    {
      "cell_type": "code",
      "source": [
        "model.fit(train_images, train_labels, epochs=20)"
      ],
      "metadata": {
        "colab": {
          "base_uri": "https://localhost:8080/"
        },
        "id": "aEGRpRHq-n6t",
        "outputId": "a62f08de-b8c9-4c48-f5b0-acbcbff3420f"
      },
      "execution_count": null,
      "outputs": [
        {
          "output_type": "stream",
          "name": "stdout",
          "text": [
            "Epoch 1/20\n",
            "1875/1875 [==============================] - 5s 2ms/step - loss: 0.5768 - accuracy: 0.8264\n",
            "Epoch 2/20\n",
            "1875/1875 [==============================] - 4s 2ms/step - loss: 0.3110 - accuracy: 0.9106\n",
            "Epoch 3/20\n",
            "1875/1875 [==============================] - 4s 2ms/step - loss: 0.2807 - accuracy: 0.9193\n",
            "Epoch 4/20\n",
            "1875/1875 [==============================] - 4s 2ms/step - loss: 0.2631 - accuracy: 0.9242\n",
            "Epoch 5/20\n",
            "1875/1875 [==============================] - 4s 2ms/step - loss: 0.2522 - accuracy: 0.9278\n",
            "Epoch 6/20\n",
            "1875/1875 [==============================] - 4s 2ms/step - loss: 0.2398 - accuracy: 0.9309\n",
            "Epoch 7/20\n",
            "1875/1875 [==============================] - 6s 3ms/step - loss: 0.2315 - accuracy: 0.9324\n",
            "Epoch 8/20\n",
            "1875/1875 [==============================] - 5s 3ms/step - loss: 0.2235 - accuracy: 0.9356\n",
            "Epoch 9/20\n",
            "1875/1875 [==============================] - 8s 4ms/step - loss: 0.2194 - accuracy: 0.9362\n",
            "Epoch 10/20\n",
            "1875/1875 [==============================] - 5s 2ms/step - loss: 0.2133 - accuracy: 0.9387\n",
            "Epoch 11/20\n",
            "1875/1875 [==============================] - 6s 3ms/step - loss: 0.2096 - accuracy: 0.9386\n",
            "Epoch 12/20\n",
            "1875/1875 [==============================] - 4s 2ms/step - loss: 0.2059 - accuracy: 0.9392\n",
            "Epoch 13/20\n",
            "1875/1875 [==============================] - 3s 2ms/step - loss: 0.2020 - accuracy: 0.9408\n",
            "Epoch 14/20\n",
            "1875/1875 [==============================] - 4s 2ms/step - loss: 0.1991 - accuracy: 0.9418\n",
            "Epoch 15/20\n",
            "1875/1875 [==============================] - 4s 2ms/step - loss: 0.1976 - accuracy: 0.9419\n",
            "Epoch 16/20\n",
            "1875/1875 [==============================] - 4s 2ms/step - loss: 0.1936 - accuracy: 0.9437\n",
            "Epoch 17/20\n",
            "1875/1875 [==============================] - 4s 2ms/step - loss: 0.1918 - accuracy: 0.9443\n",
            "Epoch 18/20\n",
            "1875/1875 [==============================] - 4s 2ms/step - loss: 0.1902 - accuracy: 0.9444\n",
            "Epoch 19/20\n",
            "1875/1875 [==============================] - 4s 2ms/step - loss: 0.1881 - accuracy: 0.9457\n",
            "Epoch 20/20\n",
            "1875/1875 [==============================] - 4s 2ms/step - loss: 0.1861 - accuracy: 0.9445\n"
          ]
        },
        {
          "output_type": "execute_result",
          "data": {
            "text/plain": [
              "<keras.callbacks.History at 0x79e3a883ce50>"
            ]
          },
          "metadata": {},
          "execution_count": 75
        }
      ]
    },
    {
      "cell_type": "code",
      "source": [
        "model.evaluate(test_images, test_labels)"
      ],
      "metadata": {
        "colab": {
          "base_uri": "https://localhost:8080/"
        },
        "id": "qLYizYa1-n3g",
        "outputId": "d0d57b17-d7c4-4cb2-f05e-b1634caf53bc"
      },
      "execution_count": null,
      "outputs": [
        {
          "output_type": "stream",
          "name": "stdout",
          "text": [
            "313/313 [==============================] - 1s 2ms/step - loss: 0.2213 - accuracy: 0.9372\n"
          ]
        },
        {
          "output_type": "execute_result",
          "data": {
            "text/plain": [
              "[0.22131533920764923, 0.9372000098228455]"
            ]
          },
          "metadata": {},
          "execution_count": 76
        }
      ]
    },
    {
      "cell_type": "code",
      "source": [
        "y_pred = model.predict(test_images)"
      ],
      "metadata": {
        "colab": {
          "base_uri": "https://localhost:8080/"
        },
        "id": "GV0t8l4E_JVW",
        "outputId": "d2135a4e-bbca-4774-8f9f-b6486d769445"
      },
      "execution_count": null,
      "outputs": [
        {
          "output_type": "stream",
          "name": "stdout",
          "text": [
            "313/313 [==============================] - 1s 2ms/step\n"
          ]
        }
      ]
    },
    {
      "cell_type": "code",
      "source": [
        "y_pred[:5]"
      ],
      "metadata": {
        "colab": {
          "base_uri": "https://localhost:8080/"
        },
        "id": "-R-n1I7M_JR_",
        "outputId": "b17f8160-d614-48b7-f1c9-467284c5f280"
      },
      "execution_count": null,
      "outputs": [
        {
          "output_type": "execute_result",
          "data": {
            "text/plain": [
              "array([[3.00251122e-06, 3.59489749e-09, 2.60903896e-03, 3.02599696e-03,\n",
              "        1.73672177e-09, 4.29082831e-08, 7.28869266e-19, 9.94307578e-01,\n",
              "        3.80573283e-06, 5.05439784e-05],\n",
              "       [6.42341035e-07, 2.41477774e-05, 9.98906553e-01, 1.01117778e-03,\n",
              "        1.91009014e-12, 6.20644278e-06, 6.13748474e-09, 4.81434697e-08,\n",
              "        5.11735707e-05, 7.59971936e-15],\n",
              "       [2.05327888e-05, 9.90554869e-01, 2.68390961e-03, 1.22911797e-03,\n",
              "        2.02352021e-04, 1.17437266e-04, 4.80523195e-05, 2.92424578e-03,\n",
              "        2.12469487e-03, 9.47446533e-05],\n",
              "       [9.99813318e-01, 3.19895943e-10, 1.65547113e-04, 7.53038094e-08,\n",
              "        1.22776145e-08, 2.41587031e-07, 3.86801588e-07, 1.97586651e-05,\n",
              "        3.76984559e-08, 6.80754283e-07],\n",
              "       [4.27074265e-04, 2.21027790e-06, 5.09391539e-04, 1.27872217e-05,\n",
              "        9.86351430e-01, 5.36312609e-06, 1.44852611e-05, 2.23374553e-03,\n",
              "        2.81059591e-04, 1.01625714e-02]], dtype=float32)"
            ]
          },
          "metadata": {},
          "execution_count": 78
        }
      ]
    },
    {
      "cell_type": "code",
      "source": [
        "y_pred_test = np.argmax(y_pred,axis=1)"
      ],
      "metadata": {
        "id": "2QL-aDno_JO8"
      },
      "execution_count": null,
      "outputs": []
    },
    {
      "cell_type": "code",
      "source": [
        "y_pred_test[:5]"
      ],
      "metadata": {
        "colab": {
          "base_uri": "https://localhost:8080/"
        },
        "id": "IKtVlYKFCFwC",
        "outputId": "f9dab987-4676-4082-f3cd-a797ad2689fb"
      },
      "execution_count": null,
      "outputs": [
        {
          "output_type": "execute_result",
          "data": {
            "text/plain": [
              "array([7, 2, 1, 0, 4])"
            ]
          },
          "metadata": {},
          "execution_count": 81
        }
      ]
    },
    {
      "cell_type": "code",
      "source": [
        "import pandas as pd\n",
        "df= pd.DataFrame(y_pred_test)\n",
        "df"
      ],
      "metadata": {
        "colab": {
          "base_uri": "https://localhost:8080/",
          "height": 890
        },
        "id": "YGbBkPiRCJqD",
        "outputId": "22f90da3-00ee-49dc-d901-419b25dc04b9"
      },
      "execution_count": null,
      "outputs": [
        {
          "output_type": "execute_result",
          "data": {
            "text/plain": [
              "      0\n",
              "0     7\n",
              "1     2\n",
              "2     1\n",
              "3     0\n",
              "4     4\n",
              "...  ..\n",
              "9995  2\n",
              "9996  3\n",
              "9997  4\n",
              "9998  5\n",
              "9999  6\n",
              "\n",
              "[10000 rows x 1 columns]"
            ],
            "text/html": [
              "\n",
              "  <div id=\"df-0deff801-b969-4735-87d5-f39db36c2d25\" class=\"colab-df-container\">\n",
              "    <div>\n",
              "<style scoped>\n",
              "    .dataframe tbody tr th:only-of-type {\n",
              "        vertical-align: middle;\n",
              "    }\n",
              "\n",
              "    .dataframe tbody tr th {\n",
              "        vertical-align: top;\n",
              "    }\n",
              "\n",
              "    .dataframe thead th {\n",
              "        text-align: right;\n",
              "    }\n",
              "</style>\n",
              "<table border=\"1\" class=\"dataframe\">\n",
              "  <thead>\n",
              "    <tr style=\"text-align: right;\">\n",
              "      <th></th>\n",
              "      <th>0</th>\n",
              "    </tr>\n",
              "  </thead>\n",
              "  <tbody>\n",
              "    <tr>\n",
              "      <th>0</th>\n",
              "      <td>7</td>\n",
              "    </tr>\n",
              "    <tr>\n",
              "      <th>1</th>\n",
              "      <td>2</td>\n",
              "    </tr>\n",
              "    <tr>\n",
              "      <th>2</th>\n",
              "      <td>1</td>\n",
              "    </tr>\n",
              "    <tr>\n",
              "      <th>3</th>\n",
              "      <td>0</td>\n",
              "    </tr>\n",
              "    <tr>\n",
              "      <th>4</th>\n",
              "      <td>4</td>\n",
              "    </tr>\n",
              "    <tr>\n",
              "      <th>...</th>\n",
              "      <td>...</td>\n",
              "    </tr>\n",
              "    <tr>\n",
              "      <th>9995</th>\n",
              "      <td>2</td>\n",
              "    </tr>\n",
              "    <tr>\n",
              "      <th>9996</th>\n",
              "      <td>3</td>\n",
              "    </tr>\n",
              "    <tr>\n",
              "      <th>9997</th>\n",
              "      <td>4</td>\n",
              "    </tr>\n",
              "    <tr>\n",
              "      <th>9998</th>\n",
              "      <td>5</td>\n",
              "    </tr>\n",
              "    <tr>\n",
              "      <th>9999</th>\n",
              "      <td>6</td>\n",
              "    </tr>\n",
              "  </tbody>\n",
              "</table>\n",
              "<p>10000 rows × 1 columns</p>\n",
              "</div>\n",
              "    <div class=\"colab-df-buttons\">\n",
              "\n",
              "  <div class=\"colab-df-container\">\n",
              "    <button class=\"colab-df-convert\" onclick=\"convertToInteractive('df-0deff801-b969-4735-87d5-f39db36c2d25')\"\n",
              "            title=\"Convert this dataframe to an interactive table.\"\n",
              "            style=\"display:none;\">\n",
              "\n",
              "  <svg xmlns=\"http://www.w3.org/2000/svg\" height=\"24px\" viewBox=\"0 -960 960 960\">\n",
              "    <path d=\"M120-120v-720h720v720H120Zm60-500h600v-160H180v160Zm220 220h160v-160H400v160Zm0 220h160v-160H400v160ZM180-400h160v-160H180v160Zm440 0h160v-160H620v160ZM180-180h160v-160H180v160Zm440 0h160v-160H620v160Z\"/>\n",
              "  </svg>\n",
              "    </button>\n",
              "\n",
              "  <style>\n",
              "    .colab-df-container {\n",
              "      display:flex;\n",
              "      gap: 12px;\n",
              "    }\n",
              "\n",
              "    .colab-df-convert {\n",
              "      background-color: #E8F0FE;\n",
              "      border: none;\n",
              "      border-radius: 50%;\n",
              "      cursor: pointer;\n",
              "      display: none;\n",
              "      fill: #1967D2;\n",
              "      height: 32px;\n",
              "      padding: 0 0 0 0;\n",
              "      width: 32px;\n",
              "    }\n",
              "\n",
              "    .colab-df-convert:hover {\n",
              "      background-color: #E2EBFA;\n",
              "      box-shadow: 0px 1px 2px rgba(60, 64, 67, 0.3), 0px 1px 3px 1px rgba(60, 64, 67, 0.15);\n",
              "      fill: #174EA6;\n",
              "    }\n",
              "\n",
              "    .colab-df-buttons div {\n",
              "      margin-bottom: 4px;\n",
              "    }\n",
              "\n",
              "    [theme=dark] .colab-df-convert {\n",
              "      background-color: #3B4455;\n",
              "      fill: #D2E3FC;\n",
              "    }\n",
              "\n",
              "    [theme=dark] .colab-df-convert:hover {\n",
              "      background-color: #434B5C;\n",
              "      box-shadow: 0px 1px 3px 1px rgba(0, 0, 0, 0.15);\n",
              "      filter: drop-shadow(0px 1px 2px rgba(0, 0, 0, 0.3));\n",
              "      fill: #FFFFFF;\n",
              "    }\n",
              "  </style>\n",
              "\n",
              "    <script>\n",
              "      const buttonEl =\n",
              "        document.querySelector('#df-0deff801-b969-4735-87d5-f39db36c2d25 button.colab-df-convert');\n",
              "      buttonEl.style.display =\n",
              "        google.colab.kernel.accessAllowed ? 'block' : 'none';\n",
              "\n",
              "      async function convertToInteractive(key) {\n",
              "        const element = document.querySelector('#df-0deff801-b969-4735-87d5-f39db36c2d25');\n",
              "        const dataTable =\n",
              "          await google.colab.kernel.invokeFunction('convertToInteractive',\n",
              "                                                    [key], {});\n",
              "        if (!dataTable) return;\n",
              "\n",
              "        const docLinkHtml = 'Like what you see? Visit the ' +\n",
              "          '<a target=\"_blank\" href=https://colab.research.google.com/notebooks/data_table.ipynb>data table notebook</a>'\n",
              "          + ' to learn more about interactive tables.';\n",
              "        element.innerHTML = '';\n",
              "        dataTable['output_type'] = 'display_data';\n",
              "        await google.colab.output.renderOutput(dataTable, element);\n",
              "        const docLink = document.createElement('div');\n",
              "        docLink.innerHTML = docLinkHtml;\n",
              "        element.appendChild(docLink);\n",
              "      }\n",
              "    </script>\n",
              "  </div>\n",
              "\n",
              "\n",
              "<div id=\"df-6aad45a4-d074-4eeb-bc60-b55c00f38612\">\n",
              "  <button class=\"colab-df-quickchart\" onclick=\"quickchart('df-6aad45a4-d074-4eeb-bc60-b55c00f38612')\"\n",
              "            title=\"Suggest charts.\"\n",
              "            style=\"display:none;\">\n",
              "\n",
              "<svg xmlns=\"http://www.w3.org/2000/svg\" height=\"24px\"viewBox=\"0 0 24 24\"\n",
              "     width=\"24px\">\n",
              "    <g>\n",
              "        <path d=\"M19 3H5c-1.1 0-2 .9-2 2v14c0 1.1.9 2 2 2h14c1.1 0 2-.9 2-2V5c0-1.1-.9-2-2-2zM9 17H7v-7h2v7zm4 0h-2V7h2v10zm4 0h-2v-4h2v4z\"/>\n",
              "    </g>\n",
              "</svg>\n",
              "  </button>\n",
              "\n",
              "<style>\n",
              "  .colab-df-quickchart {\n",
              "    background-color: #E8F0FE;\n",
              "    border: none;\n",
              "    border-radius: 50%;\n",
              "    cursor: pointer;\n",
              "    display: none;\n",
              "    fill: #1967D2;\n",
              "    height: 32px;\n",
              "    padding: 0 0 0 0;\n",
              "    width: 32px;\n",
              "  }\n",
              "\n",
              "  .colab-df-quickchart:hover {\n",
              "    background-color: #E2EBFA;\n",
              "    box-shadow: 0px 1px 2px rgba(60, 64, 67, 0.3), 0px 1px 3px 1px rgba(60, 64, 67, 0.15);\n",
              "    fill: #174EA6;\n",
              "  }\n",
              "\n",
              "  [theme=dark] .colab-df-quickchart {\n",
              "    background-color: #3B4455;\n",
              "    fill: #D2E3FC;\n",
              "  }\n",
              "\n",
              "  [theme=dark] .colab-df-quickchart:hover {\n",
              "    background-color: #434B5C;\n",
              "    box-shadow: 0px 1px 3px 1px rgba(0, 0, 0, 0.15);\n",
              "    filter: drop-shadow(0px 1px 2px rgba(0, 0, 0, 0.3));\n",
              "    fill: #FFFFFF;\n",
              "  }\n",
              "</style>\n",
              "\n",
              "  <script>\n",
              "    async function quickchart(key) {\n",
              "      const charts = await google.colab.kernel.invokeFunction(\n",
              "          'suggestCharts', [key], {});\n",
              "    }\n",
              "    (() => {\n",
              "      let quickchartButtonEl =\n",
              "        document.querySelector('#df-6aad45a4-d074-4eeb-bc60-b55c00f38612 button');\n",
              "      quickchartButtonEl.style.display =\n",
              "        google.colab.kernel.accessAllowed ? 'block' : 'none';\n",
              "    })();\n",
              "  </script>\n",
              "</div>\n",
              "    </div>\n",
              "  </div>\n"
            ]
          },
          "metadata": {},
          "execution_count": 89
        },
        {
          "output_type": "display_data",
          "data": {
            "text/plain": [
              "<google.colab._quickchart_helpers.SectionTitle at 0x79e3a89a34f0>"
            ],
            "text/html": [
              "<h4 class=\"colab-quickchart-section-title\">Values</h4>\n",
              "<style>\n",
              "  .colab-quickchart-section-title {\n",
              "      clear: both;\n",
              "  }\n",
              "</style>"
            ]
          },
          "metadata": {}
        },
        {
          "output_type": "display_data",
          "data": {
            "text/plain": [
              "import numpy as np\n",
              "from google.colab import autoviz\n",
              "\n",
              "def value_plot(df, y, figscale=1):\n",
              "  from matplotlib import pyplot as plt\n",
              "  df[y].plot(kind='line', figsize=(8 * figscale, 4 * figscale), title=y)\n",
              "  plt.gca().spines[['top', 'right']].set_visible(False)\n",
              "  plt.tight_layout()\n",
              "  return autoviz.MplChart.from_current_mpl_state()\n",
              "\n",
              "chart = value_plot(df, *[0], **{})\n",
              "chart"
            ],
            "text/html": [
              "      <div class=\"colab-quickchart-chart-with-code\" id=\"chart-8729b0c7-78db-4391-b746-745a31835aeb\">\n",
              "        <img src=\"data:image/png;base64,iVBORw0KGgoAAAANSUhEUgAAAYkAAADECAYAAABqbN27AAAAOXRFWHRTb2Z0d2FyZQBNYXRwbG90\n",
              "bGliIHZlcnNpb24zLjcuMSwgaHR0cHM6Ly9tYXRwbG90bGliLm9yZy/bCgiHAAAACXBIWXMAAA9h\n",
              "AAAPYQGoP6dpAAATTElEQVR4nO3dfWwc9Z3H8c/srr1+2l3HTmI7ThwnxM4DJoYEuymIJDSyhCpd\n",
              "E6VSESJVg4pcIeVa1P5Bo6Oi0nE2f9BIKZVa2qsi/qAVLbhId4HjIJQU7gDHd3loIJDY+CkktvFD\n",
              "vLZjj727v/vD1MUXJmRt784ufr+kkZKZ32S+M/vb/WTntzNjGWOMAAD4HB63CwAApC5CAgDgiJAA\n",
              "ADgiJAAAjggJAIAjQgIA4IiQAAA4IiQAAI4ICQCAo6SGxOHDh5O5OQDAPCU1JDo7O5O5OQDAPHG6\n",
              "CQDgiJAAADgiJAAAjggJAIAjn9sF3Kh7n35b77YPul2GK+7/SpmefbfL7TJuSFHQr/zsTHk8ls5d\n",
              "DrtdzpdadoZX5/75HknSvn99V2+19l/T5h+qV+jfTl+a8zaa/2mXav/l2JzXR2IceaBGd69fnpRt\n",
              "pc03icUaEJLSJiAkqTds68PeEQIiCcanojN//ryAkDSvgJCkrz15fF7rIzEeOHIiadtKm5AAkHyj\n",
              "dsTtEuAyQgIA4IiQAODIstyuAG4jJAAAjggJAIAjQgKAI842gZAA4MjDoMSiR0gAcERGgJAAADgi\n",
              "JAA4shiVWPQICQDOyIhFL+6QeOmll7Rlyxbdeuutqqqq0jPPPJOIugCkADICcd0F1hijffv26Y03\n",
              "3tDmzZvV0dGhDRs2aO/evQoEAomqEYBLGLhG3LcKtyxLV65ckSSFw2EVFhbK7/cvdF0AboAdieqj\n",
              "T8YS9u9PTMUS9m8jPcQVEpZl6bnnntPevXuVm5uroaEhNTU1KTMz85q2tm3Ltu1Z86LR6DXtAMzd\n",
              "+kf/w+0S4JKBUVuFeYn/D3pcYxKRSESPP/64mpqa1NnZqWPHjunb3/62+vuvvZd9Y2OjQqHQrKm5\n",
              "uXnBCgeAxez1D/qSsp24QuLUqVO6dOmStm/fLkmqqanRypUrdfLkyWvaHjx4UMPDw7Om2trahaka\n",
              "AJAUcZ1uWrVqlS5fvqxz585p48aNam1tVVtbm9avX39NW7/ff81YhdfrnV+1AABJkknSduIKiaKi\n",
              "Iv3617/Wt771LXk8HsViMf3iF79QWVlZouoDALgo7l833XfffbrvvvsSUQsA4EYl6asEV1wDABwR\n",
              "EgAAR4QEAKQhk6TzTYQEAKQhw5gEAMBthAQAwBEhAQBwREgAABwREgAAR2kREtFYsu5SAgDpIVmf\n",
              "imkREpEYDz4BADekRUgAAGbjOgkAgOsICQBIQ9yWAwDgurQICUuW2yUAwKKUFiEBAHAHIQEAaYhf\n",
              "NwEAHHEx3WdYDEkAwCzJ+lhMi5AAALiDkACANJSyp5ts29aBAwdUUVGhW265Rfv27UtEXQCAFOCL\n",
              "d4Uf//jHsixL58+fl2VZ6unpSURdAIDrSdLPm+IKibGxMf32t7/VxYsXZX06mlxcXJyQwj6LcWsA\n",
              "cEdcp5va2tpUUFCghoYG3X777brrrrt07Nixz21r27bC4fCsKRqNLkjRALDY/XfbQFK2E1dIRCIR\n",
              "dXZ2atOmTWppadHPf/5z3Xvvvert7b2mbWNjo0Kh0Kypubl5wQoHgMVscGwyKduJKyTKysrk8Xh0\n",
              "//33S5Juu+02rVmzRn/961+vaXvw4EENDw/PmmpraxemagBY5EqXZCdlO3GFxNKlS7Vr1y698sor\n",
              "kqT29na1t7dr48aN17T1+/0KBoOzJq/XO6ciLa6mA4BZknXj07h/3fSrX/1K3/3ud/XII4/I4/Ho\n",
              "6aefVmlpaSJqAwC4LO6QWLt2rf785z8nohYAwA1K1gkWrrgGgDTEvZs+gxEJAJiNbxIAANcREgAA\n",
              "R4QEAKShZP0ElpAAADhKi5DgWjoAmI2BawCA6wgJAIAjQgIA4CgtQoIb/AHAbIxJAABcR0gAQFri\n",
              "OgkAgMsICQBIQ4xJAABcR0gAABwREgAAR4QEAKQhnkwHAHDEwDUAwHWEBACkIR46BABw3ZxD4siR\n",
              "I7IsSy+++OIClgMASCVzComOjg795je/0bZt2xa6HgBACok7JGKxmB588EE99dRT8vv9iagJAPAF\n",
              "kvXrJl+8Kxw6dEh33nmntm7det12tm3Ltu1Z86LRaLybAwC4KK5vEmfPntULL7ygRx999AvbNjY2\n",
              "KhQKzZqam5vnXCgA4O9S8mK6N998Ux0dHaqoqFB5ebneeecd1dfX65e//OU1bQ8ePKjh4eFZU21t\n",
              "7YIVDgBIvLhONz300EN66KGHZv6+c+dOPfzww9qzZ881bf1+/zVjFl6vd25VAgBmSdZjnblOAgDg\n",
              "KO6B68964403FqgMAEAq4psEAMARIQEAcERIAAAcERIAkIZ4ngQAwBG3CgcAuI6QAAA4IiQAAI4I\n",
              "CQBIQwxcAwBcR0gAQBpKyVuFAwAWF0ICANIQYxIAANcREgAAR4QEAMARIQEAaYjHlwIAXEdIAEAa\n",
              "4joJAIDrCAkASEdcJwEAcBshAQBwFFdITExMaM+ePaqsrFR1dbXq6urU2tqaqNoAAA5S9vGl9fX1\n",
              "+vDDD3X69Gnt3r1bDz74YCLqAgCkgLhCIisrS1//+tdnLuLYtm2bOjo6ElEXAOA6knWDP998Vj58\n",
              "+LB27979ucts25Zt27PmRaPR+WwOAJBkcx64bmhoUGtrqxobGz93eWNjo0Kh0Kypubl5zoUCAP4u\n",
              "pS+me/LJJ9XU1KSXX35ZOTk5n9vm4MGDGh4enjXV1tbOq1gAQHLFfbrp0KFD+v3vf6/XXntN+fn5\n",
              "ju38fr/8fv+seV6vN+4CAQDuiSskLl68qB/96Edau3at7r77bknTYfDuu+8mpDgAgLviComVK1fK\n",
              "GJOoWgAAN4jHlwIAXEdIAEAaStkrrgEAiwchAQBwREgAABwREgCQhvh1EwDAdYQEAKShlL53EwBg\n",
              "cSAkACAdJWlQgpAAADgiJAAAjggJAIAjQgIA0hC/bgIAuI6QAIA0xBXXAADXERIAkIZ4ngQAwHWE\n",
              "BADAESEBAHBESABAGkrZXzdduHBBd9xxhyorK1VTU6P33nsvEXUBAFJA3CHxve99T/X19Tp//rwe\n",
              "eeQR7d+/PwFlAQCuJyWvuO7r61NLS4v27dsnSfrmN7+p7u5utba2JqQ4AIC7fPE07u7uVklJiXy+\n",
              "6dUsy1JZWZm6urq0bt26WW1t25Zt27PmRaPReZYLAJBSeEziRjU2NioUCs2ampubE7U5wHX/+LV1\n",
              "X9wIWCD3VJUkZTuWMcbcaOO+vj6tW7dOg4OD8vl8MsaopKREb7311g19k/jJT36iw4cPz6nQ8cmo\n",
              "/vP9Hm0qCSrT55Ex0oe9I1qa59eYHdFNy/PU0jGoZXl+9Y3YsiyprCBHXo+l3rCtQJZP+TkZGhyb\n",
              "1PDVKX3YO6JdG4pkR6IqyM1UT3hCxkjLA35NRmNq7RtVKDtDywJ+TUWNOgfGFJ6IqHplSD6PRzFj\n",
              "FMjyqW/EVkvHkIqCfhWHshSNGW0sCcqS1BOe0FsX+lVZHFAwa/rb1/D4lCYjRuVLc3Tl6pTyczLU\n",
              "F7b16vu9qllToJGJKW0qCSorw6vsDK9OX7yim1eE1D9qy+exNBU1siNRne8dUWl+jjavDOmTUVvn\n",
              "Loe1dfUSZWd41do3quHxKS3N82tgzNayvCz1j04fk9xMnzJ8Hvl9Hvk8lk50DOmuiqVqbh/UzSuC\n",
              "8nosTUZjGp+MamNJUF2DVxXKztD/dA6pvDBXo/aUMn0eLQ9kaVVBjjr6x3RlfEoDo7aiMaNAVoby\n",
              "/D590BPWivxs3bQsTy2dgyoKZKl0SbZixujK1SlZluSxLJ3qvqKSUJZG7YgqlgdkjJEdicljWZqK\n",
              "xpThnf5/TPGnbZYF/GpuH5DHsnTziqCWB7P0ytke3VaWr6uTUS0PZOlk15AqigI6+/GwsjI8KivI\n",
              "1dXJiN67FFZZYY76R2zVlBco0+fRv5+5pA3FQRUFsxTI8mlwbFIdA2O6OhlVaX62BsYmtW5Zni4O\n",
              "XdWmFUFd6B1VcShLveEJeSxLXo+lj4fGtXdLqXxej17/oFe9YVu5fp/8Po+KglmaisbUPXhVHw+N\n",
              "667KZXr3owHdcdNSDV6dVNanbf6rrV9rl+ap9ZNRbSoJqH90UkNjkyoKZikn0yuPx9LAqK32/qva\n",
              "unqJCvMy1f7JmCKxmEYmIjJGysvyaUNxQCe7rsjnna4t1+9TcTBLVyejOtk1pMK8TGX5vBoYm9Ty\n",
              "gF/B7AzZkZhyMr0KZk2/P46f/0TZGV5VlQanX7OY5PFI53tHlef3anvFMr12rlfjU1FtXpmvsx8P\n",
              "K5SdIcuy9GFPWFUrQhoen9LaZXlqbh+Qz+vRV9YUqH90UpFYTDmZPvWP2JqIRLUkJ1MjExGFsjN0\n",
              "ceiqhsenPn09pt/Hr77fq5VLsuXP8Grt0lxleD3KyfTqfO+I1i7L06Ur45qYimpJbqbC41OajMSU\n",
              "nelVeWGusjK8+qAnrGjMqDQ/Wz6vR4Njtj6+MqGiT9/nkahRdqZXAb9PVyej2rwypBMdQ4oZI49l\n",
              "ae2yXP1v15A2FAfVP2prQ3FAJzqGtKE4oPDElMLjEZWEpo/v22392nZToU53D2t9cZ78Pq+8HkuX\n",
              "roxPf9haUsCfocqigM58fEU5mV7dvCKkc5fD8liWMn3Tnyvjk1GduxxWICtDwWyfNpYENT4Z1aUr\n",
              "ExoYs1WQm6nqlflaVZAzp8/SeMUVEpK0c+dO7d+/X/v379fzzz+vJ554Qi0tLTe07g9/+EMdOnRo\n",
              "ToUCAJIvrjEJSXr66ae1f/9+NTQ0KBgM6siRI4moCwCQAuIOifXr1+vtt99ORC0AgBTDFdcAAEeE\n",
              "BADAUdwD1/Oxd+9elZeXz2ndaDSq5uZm1dbWyuv1LmxhaWKxH4PFvv8Sx0DiGCzU/q9evVo/+MEP\n",
              "vrBdUkNiPsLhsEKhkIaHhxUMBt0uxxWL/Rgs9v2XOAYSxyDZ+8/pJgCAI0ICAOCIkAAAOEqbkPD7\n",
              "/Xrsscfk9/vdLsU1i/0YLPb9lzgGEscg2fufNgPXAIDkS5tvEgCA5CMkAACOCAkAgKO0CIkLFy7o\n",
              "jjvuUGVlpWpqavTee++5XdKCmJiY0J49e1RZWanq6mrV1dXNPAq2r69P99xzjyoqKlRVVaW//OUv\n",
              "M+vNdVkqO3LkiCzL0osvvihpce2/bds6cOCAKioqdMstt8w8Hvh6/X6uy1LRSy+9pC1btujWW29V\n",
              "VVWVnnnmGUlf7j7w/e9/X+Xl5bIsS6dOnZqZn4jXfN79waSBu+++2xw5csQYY8wf//hHc/vtt7tb\n",
              "0AIZHx83R48eNbFYzBhjzFNPPWV27NhhjDHmgQceMI899pgxxpjm5mZTWlpqJicn57UsVbW3t5uv\n",
              "fvWrZtu2beZPf/qTMWZx7f/DDz9sDhw4MNMPLl++bIy5fr+f67JUE4vFzJIlS8zp06eNMdN9we/3\n",
              "m3A4/KXuA8ePHzfd3d1m9erV5uTJkzPzE/Gaz7c/pHxI9Pb2mkAgYKampowx052qqKjIXLhwweXK\n",
              "Ft6JEyfM6tWrjTHG5ObmznxYGGNMTU2NefXVV+e1LBVFo1Gza9cu09LSYnbs2DETEotl/0dHR00g\n",
              "EDDDw8Oz5l+v3891WSqKxWKmoKDAHD9+3BhjzOnTp82KFSuMbduLog98NiQS8ZovRH+I+3kSydbd\n",
              "3a2SkhL5fNOlWpalsrIydXV1XfPI1HR3+PBh7d69WwMDA5qamlJxcfHMsvLycnV1dc15Wao6dOiQ\n",
              "7rzzTm3dunVm3mLa/7a2NhUUFKihoUGvvfaasrOz9dOf/lT5+fmO/T4UCs1pWSq+XyzL0nPPPae9\n",
              "e/cqNzdXQ0NDampq0sjIyKLpA39zvc+6ub7mC9EfUj4kFouGhga1trbq2LFjGh8fd7ucpDh79qxe\n",
              "eOGFlDxnnCyRSESdnZ3atGmTnnjiCZ08eVJ1dXU6evSo26UlRSQS0eOPP66mpiZt375dJ06c0De+\n",
              "8Y1Z5+nhrpQfuF61apUuX76sSCQiSTLGqKurS2VlZS5XtnCefPJJNTU16eWXX1ZOTo4KCwvl8/nU\n",
              "09Mz06ajo0NlZWVzXpaK3nzzTXV0dKiiokLl5eV65513VF9frz/84Q+LYv8lqaysTB6PR/fff78k\n",
              "6bbbbtOaNWvU2dnp2O+v955It/fLqVOndOnSJW3fvl2SVFNTo5UrV+rMmTOLpg/8zVxf14T3hwU4\n",
              "rZZwO3bsmDXwsnXrVncLWkA/+9nPzJYtW8zg4OCs+d/5zndmDb6tWLFiZvBtrstS3WfHJBbT/tfV\n",
              "1ZmjR48aY4z56KOPTGFhobl48eJ1+/1cl6Wanp4ek5eXZ95//31jjDEXLlwwS5YsMZ2dnYuiD/z/\n",
              "getEvObz7Q9pERIffPCB2bZtm6moqDBbt241Z86ccbukBdHd3W0kmbVr15rq6mpTXV1tamtrjTHT\n",
              "b566ujqzbt06s2nTJvP666/PrDfXZanusyGxmPa/ra3N7Ny501RVVZnNmzeb559/3hhz/X4/12Wp\n",
              "6He/+93MvldVVZlnn33WGPPl7gP19fWmtLTUeL1es3z5cnPTTTcZYxLzms+3P3DvJgCAo5QfkwAA\n",
              "uIeQAAA4IiQAAI4ICQCAI0ICAOCIkAAAOCIkAACOCAkAgCNCAgDgiJAAADgiJAAAjv4PJ5d0rrcz\n",
              "sJYAAAAASUVORK5CYII=\n",
              "\">\n",
              "        \n",
              "      </div>\n",
              "      <script></script>\n",
              "      <script type=\"text/javascript\">\n",
              "        (() => {\n",
              "          const chartElement = document.getElementById(\"chart-8729b0c7-78db-4391-b746-745a31835aeb\");\n",
              "          async function getCodeForChartHandler(event) {\n",
              "            const chartCodeResponse =  await google.colab.kernel.invokeFunction(\n",
              "                'getCodeForChart', [\"chart-8729b0c7-78db-4391-b746-745a31835aeb\"], {});\n",
              "            const responseJson = chartCodeResponse.data['application/json'];\n",
              "            await google.colab.notebook.addCell(responseJson.code, 'code');\n",
              "          }\n",
              "          chartElement.onclick = getCodeForChartHandler;\n",
              "        })();\n",
              "      </script>\n",
              "      <style>\n",
              "        .colab-quickchart-chart-with-code  {\n",
              "            display: block;\n",
              "            float: left;\n",
              "            border: 1px solid transparent;\n",
              "        }\n",
              "\n",
              "        .colab-quickchart-chart-with-code:hover {\n",
              "            cursor: pointer;\n",
              "            border: 1px solid #aaa;\n",
              "        }\n",
              "      </style>"
            ]
          },
          "metadata": {}
        },
        {
          "output_type": "display_data",
          "data": {
            "text/plain": [
              "<google.colab._quickchart_helpers.SectionTitle at 0x79e3a8a12230>"
            ],
            "text/html": [
              "<h4 class=\"colab-quickchart-section-title\">Distributions</h4>\n",
              "<style>\n",
              "  .colab-quickchart-section-title {\n",
              "      clear: both;\n",
              "  }\n",
              "</style>"
            ]
          },
          "metadata": {}
        },
        {
          "output_type": "display_data",
          "data": {
            "text/plain": [
              "import numpy as np\n",
              "from google.colab import autoviz\n",
              "\n",
              "def histogram(df, colname, num_bins=20, figscale=1):\n",
              "  from matplotlib import pyplot as plt\n",
              "  df[colname].plot(kind='hist', bins=num_bins, title=colname, figsize=(8*figscale, 4*figscale))\n",
              "  plt.gca().spines[['top', 'right',]].set_visible(False)\n",
              "  plt.tight_layout()\n",
              "  return autoviz.MplChart.from_current_mpl_state()\n",
              "\n",
              "chart = histogram(df, *[0], **{})\n",
              "chart"
            ],
            "text/html": [
              "      <div class=\"colab-quickchart-chart-with-code\" id=\"chart-e816a346-f0fa-4351-bbfa-e1c9b78f2d00\">\n",
              "        <img src=\"data:image/png;base64,iVBORw0KGgoAAAANSUhEUgAAAYwAAADFCAYAAABHGcVaAAAAOXRFWHRTb2Z0d2FyZQBNYXRwbG90\n",
              "bGliIHZlcnNpb24zLjcuMSwgaHR0cHM6Ly9tYXRwbG90bGliLm9yZy/bCgiHAAAACXBIWXMAAA9h\n",
              "AAAPYQGoP6dpAAAWXklEQVR4nO3dfUyV9/3/8dcB5KhVQHGKDo/UccC1eAeFMHWi20jVXyJ4t0Wr\n",
              "ka0G7Gac0aSV7E47B5o5U2vTgcZQMxKnrbRbarVWU7XbLKJVh7ohR7lRCsXiBNPpGTfX7w++3/Pt\n",
              "WRGvgxwvhOcjuRL5vM91rvd1Qnh5nc91YzMMwxAAAA8QYHUDAIDHA4EBADCFwAAAmEJgAABMITAA\n",
              "AKYQGAAAUwgMAIApBAYAwBQCAwBgil8DY/Xq1YqKipLNZtP58+clSffu3VN6erpiYmI0ceJEpaam\n",
              "yuVyedapr6/XrFmz5HQ6FRcXp5MnT5qqAQD8y6+BsXDhQv3lL3/RmDFjvMYzMzNVVlamCxcuKC0t\n",
              "TStWrPDU1q9fr+TkZJWXl6ugoEBLlixRc3PzA2tmbN++vXt2DAD6IL8GxvTp0xUZGek11r9/f82Z\n",
              "M0c2m02SlJycrMrKSk99//79WrlypSQpMTFRo0aN0okTJx5Y+29ut1tNTU1ey7Vr17p7FwGgz7B8\n",
              "DmP79u1KS0uTJDU0NKi5uVkRERGeelRUlKqrqzutdSQ3N1ehoaFey+nTp/27MwDQi1kaGDk5OXK5\n",
              "XMrNze32987OzlZjY6PXkpSU1O3bAYC+IsiqDW/dulVFRUU6evSoBg4cKEkKDw9XUFCQ6urqPEcS\n",
              "lZWVcjgcndY6YrfbZbfbvcYCAwP9uEcA0LtZcoSxbds27d27Vx988IHCwsK8aosWLVJeXp4kqaSk\n",
              "RDU1NUpJSXlgDQDgXzZ/PkApKytLBw8eVF1dncLDwzV48GAdP35co0eP1tixYzV48GBJ7UcDxcXF\n",
              "kqTPPvtMy5YtU0VFhYKDg/Xaa69p5syZD6yZsXbtWm3btq37dxQA+gC/BkZP8zgGRtT6g11et3Lz\n",
              "/+vGTgD0dZafJQUAeDwQGAAAUwgMAIApBAYAwBQCAwBgCoEBADCFwAAAmEJgAABMITAAAKYQGAAA\n",
              "UwgMAIAplt3eHD1bV+9hxf2rgN6LIwwAgCkEBgDAFAIDAGAKgQEAMIXAAACY4tezpFavXq0///nP\n",
              "qqqq0rlz5zRp0iRJUnl5uZYvX67PP/9coaGheuONN/T0008/VA2PP54uCPRsfg2MhQsX6sUXX9S0\n",
              "adO8xrOyspSZmamMjAy99dZbysjIUElJyUPVgK4iqABz/BoY06dP/8pYfX29zpw5oyNHjkiSFixY\n",
              "oFWrVsnlcikkJKRLtejo6K9sx+12y+12e421trZ2eV/4owKgr3vkcxjXr1/XyJEjFRTUnlU2m00O\n",
              "h0PV1dVdrnUkNzdXoaGhXsvp06cfzU4CQC/Ua6/0zs7O1tq1a73GfvGLX1jUDYCusuronm8VvuqR\n",
              "B8bo0aNVW1urlpYWBQUFyTAMVVdXy+FwKCQkpEu1jtjtdtntdq+xwMDAR7GLANArPfKvpIYPH674\n",
              "+HgVFhZKkg4cOKDIyEhFR0d3uQYA8D+/HmFkZWXp4MGDqqur07PPPqvBgwfL5XIpPz9fGRkZysnJ\n",
              "UUhIiAoKCjzrdLUGAPAvvwZGfn5+h+OxsbE6depUt9YAAP7Fld4AAFN67VlSAPC46elnZnGEAQAw\n",
              "hSMMAKb09P/9wv84wgAAmEJgAABMITAAAKYQGAAAUwgMAIApBAYAwBQCAwBgCtdhAI+hrl4TwfUQ\n",
              "eBgcYQAATCEwAACmEBgAAFMIDACAKZYFxnvvvaf4+HhNmjRJcXFx2rNnjySpvr5es2bNktPpVFxc\n",
              "nE6ePOlZp7MaAMC/LDlLyjAMLV26VMePH9eECRNUWVmpcePGaf78+Vq/fr2Sk5N1+PBhlZSUaN68\n",
              "eaqoqFC/fv06rQEA/MuyIwybzabbt29LkpqamhQeHi673a79+/dr5cqVkqTExESNGjVKJ06ckKRO\n",
              "awAA//L5COP999/Xs88++1Abtdls2rdvn+bPn68nnnhC//rXv1RUVKQ7d+6oublZERERntdGRUWp\n",
              "urpaDQ0N9611xO12y+12e421trY+VN8A0Jf5fITx8ssvKzY2Vtu3b1dTU1OXNtrS0qJNmzapqKhI\n",
              "VVVVOnbsmJYtW6aWlpYuvV9HcnNzFRoa6rWcPn26294fAPoanwPjr3/9q/74xz/q4sWLiomJ0Y9/\n",
              "/GNdvnzZp/c4f/68Pv30U02fPl1S+9dLkZGR+vvf/66goCDV1dV5XltZWSmHw6Hw8PD71jqSnZ2t\n",
              "xsZGryUpKcnX3QUA/I8uzWFMnjxZu3bt0uHDh/Xuu+9qwoQJSk1NVWlpqan1R48erdraWv3jH/+Q\n",
              "JLlcLl29elWxsbFatGiR8vLyJEklJSWqqalRSkqKJHVa+292u10hISFeS2BgYFd2FwCgLp4ldfTo\n",
              "Ue3YsUOlpaX6yU9+oueff17Hjx/XvHnz5HK5Hrj+iBEjtHPnTn3/+99XQECA2tra9Nprr8nhcGjL\n",
              "li1atmyZnE6ngoODVVhY6DkLqrMaAMC/fA6Mb37zmxo2bJhWr16t+fPne/7XvnDhQu3evdv0+yxe\n",
              "vFiLFy/+yviIESN05MiRDtfprAYA8C+fA6OwsFAJCQkd1g4dOvTQDQEAeiaf5zDOnj2rW7dueX5u\n",
              "aGjQrl27urUpAEDP43NgvP766xo6dKjn5/DwcL3++uvd2hQAoOfxOTAMw/jKGBfEAUDv53NgjBw5\n",
              "Uvv37/f8vG/fPo0cObJbmwIA9Dw+T3q/8sorSktL04svvihJGjhwoP70pz91e2MAgJ7F58AYN26c\n",
              "Ll++rLKyMklSbGwsF8QBQB/QpQv3bDabwsLC1NLSopqaGkm67y06AAC9g8+B8cYbb2j16tXq16+f\n",
              "AgLap0BsNpvq6+u7vTkAQM/hc2D8+te/VklJiWJjY/3RDwCgh/L5LKlhw4YRFgDQB/kcGOnp6Xrl\n",
              "lVdUX1+vpqYmzwIA6N18/krqZz/7mSRp7dq1stlsMgxDNpuNi/cAoJfzOTDa2tr80QcAoIfr0gOU\n",
              "zp49qz/84Q+SpNu3b6u2trZbmwIA9Dxduvngj370I23YsEFS+91qlyxZ0t19AQB6GJ8DY+fOnfr4\n",
              "448VEhIiSfrGN76hmzdvdntjAICexefAsNvtGjBggNdYUJDvF4y73W6tWrVKTqdT48eP19KlSyVJ\n",
              "5eXlmjJlimJiYpSYmKhLly551umsBgDwL58D42tf+5quXLkim80mqf3K767cFmT9+vWy2Wy6cuWK\n",
              "SktLtXXrVklSVlaWMjMzdeXKFb300kvKyMjwrNNZDQDgX126W+3ixYv1z3/+U6NHj1ZISIjeffdd\n",
              "n97jiy++0O7du3Xjxg1P8ERERKi+vl5nzpzxPLd7wYIFWrVqlVwul0JCQu5bi46O/so23G633G63\n",
              "1xin/gJA1/kcGNHR0SouLlZZWZkMw+jS3WqvXr2qoUOHKicnR0ePHtWAAQO0YcMGhYWFaeTIkZ6v\n",
              "uGw2mxwOh6qrqxUaGnrfWkeBkZubq40bN3qNJScn+7q7AID/4fNXUtXV1bpx44aeeOIJDRo0SDU1\n",
              "NaqurvbpPVpaWlRVVaWnnnpKZ86c0auvvqof/OAHamlp8bWd+8rOzlZjY6PXkpSU1G3vDwB9jc9H\n",
              "GAkJCZ4rvO/du6d///vfCg8P9+lutQ6HQwEBAXruueckSZMnT9aTTz6pqqoq1dbWqqWlRUFBQTIM\n",
              "Q9XV1XI4HAoJCblvrSN2u112u91rjOd2AEDX+XyEcfPmTdXX1+vmzZu6c+eO3nzzTb3wwgs+vcew\n",
              "YcP03e9+V++//74kqaKiQhUVFZo6dari4+NVWFgoSTpw4IAiIyMVHR2t4cOH37cGAPC/Ll3p/WXz\n",
              "58/XwYMHfV4vLy9Pv/3tbzV+/Hilp6crPz9fX//615Wfn6/8/HzFxMRo8+bNKigo8KzTWQ0A4F8+\n",
              "fyX15TvTtra2qri4uEt3qx07dqw+/PDDr4zHxsbq1KlTHa7TWQ0A4F8+B0ZYWJhnDiMwMFBOp1Ov\n",
              "vvqqP3oDAPQg3K0WAGDKQ89hAAD6Bp+PMAICAjxXZ38ZD1ICgN7N58B4+eWXdffuXc+ptHl5eRow\n",
              "YIDWrFnT3b0BAHoQnwPj7bff1tmzZz0/b9q0SQkJCZ5HtwIAeief5zDu3LnjdVV3fX297ty5061N\n",
              "AQB6Hp+PMNatW6eJEydqzpw5kqTDhw97nr4HAOi9fA6MrKwsTZ061XPR3dq1a/X00093e2MAgJ7F\n",
              "90flSQoPD9f48eM1Y8YMtbS06D//+Y+Cg4O7uzcAQA/i8xzGW2+9peTkZP3whz+UJF26dEnp6end\n",
              "3RcAoIfxOTByc3P1ySefKCwsTJI0ceJEVVVVdXdfAIAexufACAwMVHh4uNcYX0cBQO/nc2AMHjxY\n",
              "n332medq72PHjmno0KHd3hgAoGfxedJ7y5Ytmj17tq5du6Zp06apoqKiS8/DAAA8XnwKjLa2NrW2\n",
              "turDDz/U3/72NxmGoSlTpnjmMwAAvZdPgREQEKDMzExduHBBs2fP9ldPAIAeyOc5DKfTKZfL1W0N\n",
              "FBQUyGaz6Z133pHUfquRWbNmyel0Ki4uTidPnvS8trMaAMC/fJ7DuHXrliZNmqQpU6Zo0KBBnvGi\n",
              "oiKfN15ZWaldu3YpOTnZM7Z+/XolJyfr8OHDKikp0bx581RRUaF+/fp1WgMA+JfpwMjMzNTOnTu1\n",
              "fPlyzZ07V0OGDHmoDbe1tWnFihXasWOH1q1b5xnfv3+/5wgmMTFRo0aN0okTJ/S9732v09p/c7vd\n",
              "crvdXmM8qwMAus50YJw5c0aStHz5csXHx+uTTz55qA1v27ZNU6dOVUJCgmesoaFBzc3NioiI8IxF\n",
              "RUWpurq601pHcnNztXHjRq+xLx/JAAB806VHtBqG8VAbvXjxog4cOKCf//znD/U+ncnOzlZjY6PX\n",
              "kpSU5LftAUBvZ/oI4+7duyotLZVhGLp3757n3/9rwoQJpjf60UcfqbKyUk6nU5JUV1enzMxMbdy4\n",
              "UUFBQaqrq/McSVRWVsrhcCg8PPy+tY7Y7XbZ7XavscDAQNM9AgC8+RQYc+fO9fz85X/bbDZdu3bN\n",
              "9EZfeOEFzyNeJWnGjBlas2aN0tPTVVxcrLy8PG3YsEElJSWqqalRSkqKJGnRokX3rQEA/Mt0YFRW\n",
              "Vvqxjf+zZcsWLVu2TE6nU8HBwSosLPScBdVZDQDgX116HkZ3O378uOffI0aM0JEjRzp8XWc1AIB/\n",
              "dWnSGwDQ9xAYAABTCAwAgCkEBgDAFAIDAGAKgQEAMIXAAACYQmAAAEwhMAAAphAYAABTCAwAgCkE\n",
              "BgDAFAIDAGAKgQEAMIXAAACYQmAAAEyxJDDu3bun9PR0xcTEaOLEiUpNTZXL5ZIk1dfXa9asWXI6\n",
              "nYqLi9PJkyc963VWAwD4l2VHGJmZmSorK9OFCxeUlpamFStWSJLWr1+v5ORklZeXq6CgQEuWLFFz\n",
              "c/MDawAA/7IkMPr37685c+bIZrNJkpKTkz3PDN+/f79WrlwpSUpMTNSoUaN04sSJB9YAAP7VI57p\n",
              "vX37dqWlpamhoUHNzc2KiIjw1KKiolRdXd1prSNut1tut9trrLW11T87AAB9gOWT3jk5OXK5XMrN\n",
              "ze3W983NzVVoaKjXcvr06W7dBgD0JZYGxtatW1VUVKRDhw5p4MCBCg8PV1BQkOrq6jyvqayslMPh\n",
              "6LTWkezsbDU2NnotSUlJft8nAOitLAuMbdu2ae/evfrggw8UFhbmGV+0aJHy8vIkSSUlJaqpqVFK\n",
              "SsoDa//NbrcrJCTEawkMDPTvTgFAL2bJHMaNGze0bt06jR07VjNnzpTU/ge+uLhYW7Zs0bJly+R0\n",
              "OhUcHKzCwkL169dPkjqtAQD8y5LAiIyMlGEYHdZGjBihI0eO+FwDAPiX5ZPeAIDHA4EBADCFwAAA\n",
              "mEJgAABMITAAAKYQGAAAUwgMAIApBAYAwBQCAwBgCoEBADCFwAAAmEJgAABMITAAAKYQGAAAUwgM\n",
              "AIApBAYAwBQCAwBgymMXGOXl5ZoyZYpiYmKUmJioS5cuWd0SAPQJj11gZGVlKTMzU1euXNFLL72k\n",
              "jIwMq1sCgD7hsQqM+vp6nTlzRkuXLpUkLViwQNevX5fL5frKa91ut5qamryW1tbWR90yAPQaNsMw\n",
              "DKubMOvs2bNasmSJysrKPGNJSUnavHmzvvOd73i9dsOGDdq4caPX2Lhx4zR79myft9va2qrTp08r\n",
              "KSlJgYGBXWu+F+BzaMfn0I7PoV1v+BzGjBmjn/70pw98Xa8NDLfbLbfb7TVmt9tlt9t93m5TU5NC\n",
              "Q0PV2NiokJCQrjXfC/A5tONzaMfn0K4vfQ5BVjfgi9GjR6u2tlYtLS0KCgqSYRiqrq6Ww+H4ymu7\n",
              "Gg4AgI49VnMYw4cPV3x8vAoLCyVJBw4cUGRkpKKjoy3uDAB6v8fqCEOS8vPzlZGRoZycHIWEhKig\n",
              "oMDqlgCgT3jsAiM2NlanTp16pNu02+361a9+1ee/4uJzaMfn0I7PoV1f+hweq0lvAIB1Hqs5DACA\n",
              "dQgMAIApBAYAwBQCAwBgCoHxANwdV7p3757S09MVExOjiRMnKjU1tcP7d/UlBQUFstlseuedd6xu\n",
              "xRJut1urVq2S0+nU+PHjPfd362vee+89xcfHa9KkSYqLi9OePXusbsm/DHRq5syZRkFBgWEYhvHm\n",
              "m28azzzzjLUNWeDu3bvGwYMHjba2NsMwDGPHjh1GSkqKtU1ZqKKiwvjWt75lJCcnG2+//bbV7Vhi\n",
              "zZo1xqpVqzy/E7W1tRZ39Oi1tbUZQ4YMMS5cuGAYRvvvhd1uN5qamizuzH84wuiEL3fH7c369++v\n",
              "OXPmyGazSZKSk5NVWVlpbVMWaWtr04oVK7Rjx44+cd59R7744gvt3r1bv/nNbzy/ExERERZ3ZQ2b\n",
              "zabbt29Lar+nVHh4eK/+vSAwOnH9+nWNHDlSQUHt1zfabDY5HA5VV1db3Jm1tm/frrS0NKvbsMS2\n",
              "bds0depUJSQkWN2KZa5evaqhQ4cqJydHzzzzjL797W/r2LFjVrf1yNlsNu3bt0/z58/XmDFjNG3a\n",
              "NO3Zs0fBwcFWt+Y3j92V3rBWTk6OXC5Xn/wDcfHiRR04cEAnT560uhVLtbS0qKqqSk899ZQ2b96s\n",
              "c+fOKTU1VZcuXdKIESOsbu+RaWlp0aZNm1RUVKTp06erpKREc+fOVWlpqYYNG2Z1e37BEUYnvnx3\n",
              "XEmd3h23L9i6dauKiop06NAhDRw40Op2HrmPPvpIlZWVcjqdioqK0scff6zMzEz9/ve/t7q1R8rh\n",
              "cCggIEDPPfecJGny5Ml68sknVVpaanFnj9b58+f16aefavr06ZKkxMRERUZG6ty5cxZ35kdWT6L0\n",
              "dCkpKV6T3gkJCdY2ZJHf/e53Rnx8vHHr1i2rW+kxUlJS+uykd2pqqnHw4EHDMAzj2rVrRnh4uHHj\n",
              "xg2Lu3q06urqjEGDBhmXL182DMMwysvLjSFDhhhVVVUWd+Y/3EvqAcrKypSRkaGGhgbP3XHHjx9v\n",
              "dVuP1I0bNzR69GiNHTtWgwcPltR+w7Xi4mKLO7PWjBkztGbNGqWnp1vdyiN37do1Pf/88/r8888V\n",
              "EBCgX/7yl1qwYIHVbT1ye/fuVU5OjgICAtTW1qbs7GwtWbLE6rb8hsAAAJjCHAYAwBQCAwBgCoEB\n",
              "ADCFwAAAmEJgAABMITAAAKYQGAAAUwgMAIApBAYAwBQCAwBgyv8H+XRAyZ7oAhcAAAAASUVORK5C\n",
              "YII=\n",
              "\">\n",
              "        \n",
              "      </div>\n",
              "      <script></script>\n",
              "      <script type=\"text/javascript\">\n",
              "        (() => {\n",
              "          const chartElement = document.getElementById(\"chart-e816a346-f0fa-4351-bbfa-e1c9b78f2d00\");\n",
              "          async function getCodeForChartHandler(event) {\n",
              "            const chartCodeResponse =  await google.colab.kernel.invokeFunction(\n",
              "                'getCodeForChart', [\"chart-e816a346-f0fa-4351-bbfa-e1c9b78f2d00\"], {});\n",
              "            const responseJson = chartCodeResponse.data['application/json'];\n",
              "            await google.colab.notebook.addCell(responseJson.code, 'code');\n",
              "          }\n",
              "          chartElement.onclick = getCodeForChartHandler;\n",
              "        })();\n",
              "      </script>\n",
              "      <style>\n",
              "        .colab-quickchart-chart-with-code  {\n",
              "            display: block;\n",
              "            float: left;\n",
              "            border: 1px solid transparent;\n",
              "        }\n",
              "\n",
              "        .colab-quickchart-chart-with-code:hover {\n",
              "            cursor: pointer;\n",
              "            border: 1px solid #aaa;\n",
              "        }\n",
              "      </style>"
            ]
          },
          "metadata": {}
        }
      ]
    },
    {
      "source": [],
      "cell_type": "code",
      "metadata": {
        "id": "ufV05T0VO8jq"
      },
      "execution_count": null,
      "outputs": []
    },
    {
      "cell_type": "code",
      "source": [],
      "metadata": {
        "id": "cT6X7MGQCJmo"
      },
      "execution_count": null,
      "outputs": []
    },
    {
      "cell_type": "code",
      "source": [],
      "metadata": {
        "id": "mHsN_GY_CJjN"
      },
      "execution_count": null,
      "outputs": []
    }
  ]
}